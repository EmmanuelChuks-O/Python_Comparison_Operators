{
 "cells": [
  {
   "cell_type": "markdown",
   "id": "ae189361-0fd0-42c5-a493-3a098484a784",
   "metadata": {},
   "source": [
    "Comparison Operators"
   ]
  },
  {
   "cell_type": "markdown",
   "id": "dcebc9d8-3b4f-4287-85a1-2e5ba2cffd81",
   "metadata": {},
   "source": [
    "=="
   ]
  },
  {
   "cell_type": "code",
   "execution_count": 12,
   "id": "18b6fd8c-bd53-46e2-b733-0cb58160cf85",
   "metadata": {},
   "outputs": [
    {
     "name": "stdout",
     "output_type": "stream",
     "text": [
      "True\n",
      "False\n"
     ]
    }
   ],
   "source": [
    "# \tIf the values of two operands are equal ( = = ), then the condition becomes true.\n",
    "\n",
    "a = 1\n",
    "b = 1\n",
    "print(a == b)\n",
    "\n",
    "c = 2\n",
    "d = 3\n",
    "print(c == d)"
   ]
  },
  {
   "cell_type": "markdown",
   "id": "bd34e09d-2ed4-4a6b-b8cb-6f1c83a0b1a9",
   "metadata": {},
   "source": [
    "!="
   ]
  },
  {
   "cell_type": "code",
   "execution_count": 15,
   "id": "312516c0-64dc-441c-b665-4b125ee383e2",
   "metadata": {},
   "outputs": [
    {
     "name": "stdout",
     "output_type": "stream",
     "text": [
      "False\n",
      "True\n"
     ]
    }
   ],
   "source": [
    "# \tIf values of two operands are not equal (!=), then condition becomes true.\n",
    "\n",
    "a = 1\n",
    "b = 1\n",
    "print(a != b)\n",
    "\n",
    "c = 2\n",
    "d = 3\n",
    "print(c != d)"
   ]
  },
  {
   "cell_type": "markdown",
   "id": "c74ac099-36f4-452e-8f54-904ef763ecd2",
   "metadata": {},
   "source": [
    ">"
   ]
  },
  {
   "cell_type": "code",
   "execution_count": 16,
   "id": "fdbccc85-5550-4a52-8dab-f62eb54e4714",
   "metadata": {},
   "outputs": [],
   "source": [
    "# \tIf the value of left operand is greater (>) than the value of right operand, then condition becomes true."
   ]
  },
  {
   "cell_type": "code",
   "execution_count": 20,
   "id": "48bcc578-dad2-4d19-a1ba-8f8a09067c91",
   "metadata": {},
   "outputs": [
    {
     "name": "stdout",
     "output_type": "stream",
     "text": [
      "True\n"
     ]
    }
   ],
   "source": [
    "c = 2\n",
    "d = 3\n",
    "print(d > c)"
   ]
  },
  {
   "cell_type": "markdown",
   "id": "15cb18fe-769a-4ea4-83b1-2b97f683ca19",
   "metadata": {},
   "source": [
    "<"
   ]
  },
  {
   "cell_type": "code",
   "execution_count": 19,
   "id": "d9d63bfc-1517-46b0-9bde-cd98ad95a000",
   "metadata": {},
   "outputs": [],
   "source": [
    "# \tIf the value of left operand is less (<) than the value of right operand, then condition becomes true."
   ]
  },
  {
   "cell_type": "code",
   "execution_count": 22,
   "id": "f757db8d-8a14-4c7d-9578-85f95e2215a8",
   "metadata": {},
   "outputs": [
    {
     "name": "stdout",
     "output_type": "stream",
     "text": [
      "True\n"
     ]
    }
   ],
   "source": [
    "\n",
    "c = 2\n",
    "d = 3\n",
    "print(c < d)"
   ]
  },
  {
   "cell_type": "markdown",
   "id": "208dd931-5c03-4a0a-934d-86d719b1654e",
   "metadata": {},
   "source": [
    ">="
   ]
  },
  {
   "cell_type": "code",
   "execution_count": 23,
   "id": "2d1fba41-ba93-498c-be6c-440070243f53",
   "metadata": {},
   "outputs": [],
   "source": [
    "# \tIf the value of left operand is greater than or equal (>=) to the value of right operand, then condition becomes true."
   ]
  },
  {
   "cell_type": "code",
   "execution_count": 24,
   "id": "fac29480-8151-4db1-b387-be77d4133c3d",
   "metadata": {},
   "outputs": [
    {
     "name": "stdout",
     "output_type": "stream",
     "text": [
      "True\n"
     ]
    }
   ],
   "source": [
    "c = 2\n",
    "d = 3\n",
    "print(d >= c)"
   ]
  },
  {
   "cell_type": "markdown",
   "id": "08d143fd-4fb7-4f6c-babe-601a44c052c7",
   "metadata": {},
   "source": [
    "<="
   ]
  },
  {
   "cell_type": "code",
   "execution_count": null,
   "id": "1c146abb-1948-47a1-9665-f5a3cd5a7b9b",
   "metadata": {},
   "outputs": [],
   "source": [
    "# \tIf the value of left operand is less than or equal (<=) to the value of right operand, then condition becomes true."
   ]
  },
  {
   "cell_type": "code",
   "execution_count": 25,
   "id": "435e118a-97ca-4fb9-9207-c9028486999f",
   "metadata": {},
   "outputs": [
    {
     "name": "stdout",
     "output_type": "stream",
     "text": [
      "False\n"
     ]
    }
   ],
   "source": [
    "c = 2\n",
    "d = 3\n",
    "print(d <= c)"
   ]
  },
  {
   "cell_type": "code",
   "execution_count": 26,
   "id": "4336cc73-55f0-4499-9c06-b401c9b7856e",
   "metadata": {},
   "outputs": [
    {
     "data": {
      "text/plain": [
       "True"
      ]
     },
     "execution_count": 26,
     "metadata": {},
     "output_type": "execute_result"
    }
   ],
   "source": [
    "2 == 2"
   ]
  },
  {
   "cell_type": "code",
   "execution_count": 27,
   "id": "dc1e9d29-73ec-47f6-935b-c67b87cc2861",
   "metadata": {},
   "outputs": [
    {
     "data": {
      "text/plain": [
       "False"
      ]
     },
     "execution_count": 27,
     "metadata": {},
     "output_type": "execute_result"
    }
   ],
   "source": [
    "2 == 1"
   ]
  },
  {
   "cell_type": "code",
   "execution_count": 28,
   "id": "6c831f02-9337-4af6-a13c-1f63821f183f",
   "metadata": {},
   "outputs": [
    {
     "data": {
      "text/plain": [
       "False"
      ]
     },
     "execution_count": 28,
     "metadata": {},
     "output_type": "execute_result"
    }
   ],
   "source": [
    "3 != 3"
   ]
  },
  {
   "cell_type": "code",
   "execution_count": 29,
   "id": "ab586610-1267-4944-bdad-48b54679eb22",
   "metadata": {},
   "outputs": [
    {
     "data": {
      "text/plain": [
       "True"
      ]
     },
     "execution_count": 29,
     "metadata": {},
     "output_type": "execute_result"
    }
   ],
   "source": [
    "4 != 5"
   ]
  },
  {
   "cell_type": "code",
   "execution_count": 30,
   "id": "6c6d0acc-6e43-426a-b4e2-1ac012508b54",
   "metadata": {},
   "outputs": [
    {
     "data": {
      "text/plain": [
       "True"
      ]
     },
     "execution_count": 30,
     "metadata": {},
     "output_type": "execute_result"
    }
   ],
   "source": [
    "2 > 1"
   ]
  },
  {
   "cell_type": "code",
   "execution_count": 31,
   "id": "c7b3a525-5000-454c-ad34-55651740bda4",
   "metadata": {},
   "outputs": [
    {
     "data": {
      "text/plain": [
       "False"
      ]
     },
     "execution_count": 31,
     "metadata": {},
     "output_type": "execute_result"
    }
   ],
   "source": [
    "2 > 3"
   ]
  },
  {
   "cell_type": "code",
   "execution_count": 32,
   "id": "2b110d71-ad99-4ad1-9c5d-481dd6e9bfbb",
   "metadata": {},
   "outputs": [
    {
     "data": {
      "text/plain": [
       "False"
      ]
     },
     "execution_count": 32,
     "metadata": {},
     "output_type": "execute_result"
    }
   ],
   "source": [
    "5 < 4"
   ]
  },
  {
   "cell_type": "code",
   "execution_count": 33,
   "id": "dc57dc17-c609-4f5c-af98-8bc06bb39667",
   "metadata": {},
   "outputs": [
    {
     "data": {
      "text/plain": [
       "True"
      ]
     },
     "execution_count": 33,
     "metadata": {},
     "output_type": "execute_result"
    }
   ],
   "source": [
    "5 < 6"
   ]
  },
  {
   "cell_type": "code",
   "execution_count": null,
   "id": "a86d91ef-c109-4270-ad04-8781f2b99316",
   "metadata": {},
   "outputs": [],
   "source": []
  }
 ],
 "metadata": {
  "kernelspec": {
   "display_name": "Python [conda env:base] *",
   "language": "python",
   "name": "conda-base-py"
  },
  "language_info": {
   "codemirror_mode": {
    "name": "ipython",
    "version": 3
   },
   "file_extension": ".py",
   "mimetype": "text/x-python",
   "name": "python",
   "nbconvert_exporter": "python",
   "pygments_lexer": "ipython3",
   "version": "3.12.7"
  }
 },
 "nbformat": 4,
 "nbformat_minor": 5
}
